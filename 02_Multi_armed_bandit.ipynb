{
  "nbformat": 4,
  "nbformat_minor": 0,
  "metadata": {
    "colab": {
      "name": "02-Multi-armed_bandit.ipynb",
      "provenance": [],
      "authorship_tag": "ABX9TyNGWpOr+pswi7FNzn5dmwVC",
      "include_colab_link": true
    },
    "kernelspec": {
      "name": "python3",
      "display_name": "Python 3"
    },
    "language_info": {
      "name": "python"
    }
  },
  "cells": [
    {
      "cell_type": "markdown",
      "metadata": {
        "id": "view-in-github",
        "colab_type": "text"
      },
      "source": [
        "<a href=\"https://colab.research.google.com/github/aplneto/IF998/blob/main/02_Multi_armed_bandit.ipynb\" target=\"_parent\"><img src=\"https://colab.research.google.com/assets/colab-badge.svg\" alt=\"Open In Colab\"/></a>"
      ]
    },
    {
      "cell_type": "markdown",
      "source": [
        "# Problema estacionário"
      ],
      "metadata": {
        "id": "EwD7F1nSN_eV"
      }
    },
    {
      "cell_type": "code",
      "source": [
        "%%writefile MultiArmedBandit.py\n",
        "from numpy.random import binomial, uniform\n",
        "\n",
        "class MultiArmedBandit(object):\n",
        "  def __init__(self, n=10, **kwargs):\n",
        "    probs = kwargs.get('prob', None)\n",
        "    if probs is None:\n",
        "      probs = [uniform(0.1, 0.9) for _ in range(n)]\n",
        "    self.__probs = probs\n",
        "  \n",
        "  def play(self, n=0):\n",
        "    if n >= len(self.__probs):\n",
        "      raise ValueError('n deve estar entre 0 e %i' % len(self.__probs))\n",
        "    return binomial(1, self.__probs[n])\n",
        "  \n",
        "  @property\n",
        "  def probs(self):\n",
        "    return self.__probs\n",
        "  \n",
        "  @property\n",
        "  def optimal(self):\n",
        "    return max(range(len(self.__probs)), key=lambda a: self.__probs[a])"
      ],
      "metadata": {
        "colab": {
          "base_uri": "https://localhost:8080/"
        },
        "id": "0U6FDJKRyXqk",
        "outputId": "dd2a34c5-8906-4bed-a465-315d7f9ec4bb"
      },
      "execution_count": 1,
      "outputs": [
        {
          "output_type": "stream",
          "name": "stdout",
          "text": [
            "Writing MultiArmedBandit.py\n"
          ]
        }
      ]
    },
    {
      "cell_type": "markdown",
      "source": [
        "Função de valor estimada a partir da média dos retornos:\n",
        "\n",
        "$\n",
        "\\begin{equation}\n",
        "Q_{n+1}=Q_{n}+[\\frac{1}{n}(R_n-Q_n)]\n",
        "\\end{equation}\n",
        "$"
      ],
      "metadata": {
        "id": "yCl4YGTZ31LT"
      }
    },
    {
      "cell_type": "markdown",
      "source": [
        "## A simple bandit algorithm\n",
        "\n",
        "$\n",
        "\\begin{equation}\n",
        "  \\text{Initialize, for } a = 1 \\text{ to } k\\\\\n",
        "  Q(a)\\gets0\\\\\n",
        "  N(a)\\gets0\\\\\n",
        "  \\text{Repeat forever:}\\\\\n",
        "A\\gets\n",
        "  \\begin{cases}\n",
        "  argmax_aQ(a)\\text{ with probability 1-ϵ (breaking ties randomly)}\n",
        "  \\\\\\\\\n",
        "  a \\text{ random action with probability ϵ}\n",
        "  \\end{cases}\\\\\n",
        "  R\\gets bandit(A)\\\\\n",
        "  N(A)\\gets N(A) + 1\\\\\n",
        "  Q(A)\\gets Q(A) + \\frac{1}{N(A)}[R-Q(A)]\n",
        "\\end{equation}\n",
        "$"
      ],
      "metadata": {
        "id": "DpZkdAQb4uFQ"
      }
    },
    {
      "cell_type": "code",
      "source": [
        "from MultiArmedBandit import MultiArmedBandit\n",
        "\n",
        "k = 10\n",
        "epsilon = 0.1\n",
        "\n",
        "bandits = MultiArmedBandit(k)"
      ],
      "metadata": {
        "id": "kwWUHdE7uXFd"
      },
      "execution_count": 2,
      "outputs": []
    },
    {
      "cell_type": "code",
      "source": [
        "from threading import Thread\n",
        "from time import sleep\n",
        "\n",
        "forever = True\n",
        "\n",
        "def stop_experiment(time=60):\n",
        "  '''\n",
        "  função auxiliar usada pra parar o experimento\n",
        "  '''\n",
        "  global forever\n",
        "  sleep(time)\n",
        "  forever = False\n",
        "\n",
        "controller = Thread(target=stop_experiment, args=(60,))\n",
        "controller.start()"
      ],
      "metadata": {
        "id": "pVYpF0UHMBSx"
      },
      "execution_count": 3,
      "outputs": []
    },
    {
      "cell_type": "code",
      "source": [
        "from numpy.random import choice\n",
        "\n",
        "Q = [0 for _ in range(k)]\n",
        "N = [0 for _ in range(k)]\n",
        "\n",
        "while forever:\n",
        "  greedy = choice([0, 1], p=[epsilon, 1-epsilon])\n",
        "  A = (\n",
        "      max(range(len(Q)), key=lambda a: Q[a]) if greedy\n",
        "      else choice(range(len(Q)))\n",
        "  )\n",
        "  R = bandits.play(A)\n",
        "  N[A] = N[A] + 1\n",
        "  Q[A] = Q[A] + (1/N[A])*(R - Q[A])"
      ],
      "metadata": {
        "id": "Qem6Zgf0vphW"
      },
      "execution_count": 4,
      "outputs": []
    },
    {
      "cell_type": "code",
      "source": [
        "print(Q)\n",
        "print(bandits.probs)"
      ],
      "metadata": {
        "colab": {
          "base_uri": "https://localhost:8080/"
        },
        "id": "if_1Z6JoBG38",
        "outputId": "5c264fa7-1d97-480a-cc25-acb64edce179"
      },
      "execution_count": 5,
      "outputs": [
        {
          "output_type": "stream",
          "name": "stdout",
          "text": [
            "[0.11448417802932874, 0.5871313672922271, 0.8747876303622899, 0.38920676202860716, 0.7719727190837737, 0.26291441788743275, 0.5188604589817967, 0.7141930461857832, 0.864909553887364, 0.10435347628330091]\n",
            "[0.11422264721094555, 0.5910450106445766, 0.8749349394885053, 0.3856825700221834, 0.7791641723789143, 0.2617235404161227, 0.5127884112537656, 0.7259271606800887, 0.8644233212256461, 0.10899068597258053]\n"
          ]
        }
      ]
    },
    {
      "cell_type": "code",
      "source": [
        "%matplotlib inline\n",
        "from matplotlib import pyplot\n",
        "\n",
        "# distribuições reais\n",
        "\n",
        "ax1 = pyplot.subplot()\n",
        "ax1.plot(bandits.probs, 'r-', label='Reais')\n",
        "ax1.plot(Q, 'b:', label='Previstas')\n",
        "ax1.set_title(\"Distribuições reais\")\n",
        "ax1.legend()\n",
        "\n",
        "\n",
        "f = pyplot.plot()"
      ],
      "metadata": {
        "colab": {
          "base_uri": "https://localhost:8080/",
          "height": 281
        },
        "id": "BUwjxJmPEd1b",
        "outputId": "016845c6-2baa-4eed-cfcc-b13f55e3dd05"
      },
      "execution_count": 6,
      "outputs": [
        {
          "output_type": "display_data",
          "data": {
            "image/png": "[encoded data removed]",
            "text/plain": [
              "<Figure size 432x288 with 1 Axes>"
            ]
          },
          "metadata": {
            "needs_background": "light"
          }
        }
      ]
    },
    {
      "cell_type": "markdown",
      "source": [
        "## Problema não estacionários\n",
        "\n",
        "$\n",
        "\\begin{equation}\n",
        "Q_{n+1}=Q_n+\\alpha\\left[R_n-Q_n\\right]\\\\\n",
        "\\end{equation}\n",
        "\\text{onde α é uma constante entre (0, 1] (leraning rate ou stepsize)}\n",
        "$\n",
        "\n",
        "* Esta opção dá mais relevância a estimativas mais recentes, enquanto estimativas antigas vão perdendo relevância com o tempo.\n",
        "* Com o $\\alpha$ sendo uma constante, não há convergência exata da função, mas ela consegue seguir mudanças nos ambientes não estacionários\n",
        "\n",
        "[Bernoulli bandit](https://gdmarmerola.github.io/ts-for-bernoulli-bandit/)"
      ],
      "metadata": {
        "id": "tKiEt_XxNjL0"
      }
    },
    {
      "cell_type": "code",
      "source": [
        ""
      ],
      "metadata": {
        "id": "h8387K6JRUxA"
      },
      "execution_count": 6,
      "outputs": []
    },
    {
      "cell_type": "markdown",
      "source": [
        "## Exploration vs. Exploitation"
      ],
      "metadata": {
        "id": "bs7c8WgmRVAI"
      }
    },
    {
      "cell_type": "code",
      "source": [
        "idx = 0\n",
        "\n",
        "for ep in [0, 0.01, 0.1]:\n",
        "  Q = [0 for _ in range(k)]\n",
        "  N = [0 for _ in range(k)]\n",
        "\n",
        "  # Recompensa total\n",
        "  G = 0\n",
        "  # Recompensas médias\n",
        "  avg_rw = []\n",
        "\n",
        "  i = 0\n",
        "  while i < 2000:\n",
        "    greedy = choice([0, 1], p=[ep, 1-ep])\n",
        "    A = (\n",
        "        max(range(len(Q)), key=lambda a: Q[a]) if greedy\n",
        "        else choice(range(len(Q)))\n",
        "    )\n",
        "    R = bandits.play(A)\n",
        "    G = G + R\n",
        "    N[A] = N[A] + 1\n",
        "    Q[A] = Q[A] + (1/N[A])*(R - Q[A])\n",
        "    i += 1\n",
        "    avg_rw.append(G/sum(N))\n",
        "  \n",
        "  pyplot.plot(avg_rw, label=str(ep))\n",
        "\n",
        "pyplot.legend()\n",
        "f = pyplot.plot()"
      ],
      "metadata": {
        "colab": {
          "base_uri": "https://localhost:8080/",
          "height": 265
        },
        "id": "kLieNZNrRXlv",
        "outputId": "55d816e9-ca72-4064-d0c9-1c74fcc9f6a4"
      },
      "execution_count": 7,
      "outputs": [
        {
          "output_type": "display_data",
          "data": {
            "image/png": "[encoded data removed]",
            "text/plain": [
              "<Figure size 432x288 with 1 Axes>"
            ]
          },
          "metadata": {
            "needs_background": "light"
          }
        }
      ]
    },
    {
      "cell_type": "markdown",
      "source": [
        "## Convergência da Estimativa\n",
        "\n",
        "$\n",
        "\\begin{equation}\n",
        "\\sum^{\\infty}_{n=1}\\alpha_n(a)=\\infty\\text{, garante que a função saia de qualquer condição inicial ruim}\\\\\n",
        "\\sum^{\\infty}_{n=1}\\alpha^2(a)\\le\\infty\\text{, garane que a função irá convergir}\n",
        "\\end{equation}\n",
        "$"
      ],
      "metadata": {
        "id": "Ty_ADVqtPaJp"
      }
    },
    {
      "cell_type": "markdown",
      "source": [
        "## Valores iniciais otimistas\n",
        "\n",
        "$\n",
        "\\begin{equation}\n",
        "  \\text{Initialize, for } a = 1 \\text{ to } k\\\\\n",
        "  Q(a)\\gets5\\\\\n",
        "  N(a)\\gets0\\\\\n",
        "  \\text{Repeat forever:}\\\\\n",
        "A\\gets\n",
        "  \\begin{cases}\n",
        "  argmax_aQ(a)\\text{ with probability 1-ϵ (breaking ties randomly)}\n",
        "  \\\\\\\\\n",
        "  a \\text{ random action with probability ϵ}\n",
        "  \\end{cases}\\\\\n",
        "  R\\gets bandit(A)\\\\\n",
        "  N(A)\\gets N(A) + 1\\\\\n",
        "  Q(A)\\gets Q(A) + \\frac{1}{N(A)}[R-Q(A)]\n",
        "\\end{equation}\n",
        "$"
      ],
      "metadata": {
        "id": "CpwE-vJ0RGkk"
      }
    },
    {
      "cell_type": "code",
      "source": [
        "greedy_count = 0\n",
        "greedy_avg = []\n",
        "\n",
        "Q = [0 for _ in range(k)]\n",
        "N = [0 for _ in range(k)]\n",
        "\n",
        "i= 0\n",
        "while i < 1000:\n",
        "  greedy = choice([0, 1], p=[epsilon, 1-epsilon])\n",
        "  if greedy:\n",
        "    greedy_count += 1\n",
        "  A = (\n",
        "      max(range(len(Q)), key=lambda a: Q[a]) if greedy\n",
        "      else choice(range(len(Q)))\n",
        "  )\n",
        "  R = bandits.play(A)\n",
        "  N[A] = N[A] + 1\n",
        "  Q[A] = Q[A] + (1/N[A])*(R - Q[A])\n",
        "  greedy_avg.append(greedy_count/sum(N))\n",
        "  i += 1"
      ],
      "metadata": {
        "id": "Q0G9xF68RQEm"
      },
      "execution_count": 8,
      "outputs": []
    },
    {
      "cell_type": "code",
      "source": [
        "greedy_count = 0\n",
        "greedy_avg_optimistic = []\n",
        "\n",
        "Q = [5 for _ in range(k)]\n",
        "N = [0 for _ in range(k)]\n",
        "\n",
        "i= 0\n",
        "while i < 1000:\n",
        "  greedy = choice([0, 1], p=[epsilon, 1-epsilon])\n",
        "  if greedy:\n",
        "    greedy_count += 1\n",
        "  A = (\n",
        "      max(range(len(Q)), key=lambda a: Q[a]) if greedy\n",
        "      else choice(range(len(Q)))\n",
        "  )\n",
        "  R = bandits.play(A)\n",
        "  N[A] = N[A] + 1\n",
        "  Q[A] = Q[A] + (1/N[A])*(R - Q[A])\n",
        "  greedy_avg_optimistic.append(greedy_count/sum(N))\n",
        "  i += 1"
      ],
      "metadata": {
        "id": "KgyyC8oAVbvD"
      },
      "execution_count": 9,
      "outputs": []
    },
    {
      "cell_type": "code",
      "source": [
        "pyplot.plot(greedy_avg, label='Realistic \\u03b5-greedy')\n",
        "pyplot.plot(greedy_avg_optimistic, label='Optimistic \\u03b5-greedy')\n",
        "pyplot.legend()\n",
        "pyplot.ylabel('% Optimal action')\n",
        "f = pyplot.plot()"
      ],
      "metadata": {
        "colab": {
          "base_uri": "https://localhost:8080/",
          "height": 265
        },
        "id": "joQDgooKVqsJ",
        "outputId": "98408381-4ba7-4f2c-b5d6-6025a6b39abb"
      },
      "execution_count": 10,
      "outputs": [
        {
          "output_type": "display_data",
          "data": {
            "image/png": "[encoded data removed]",
            "text/plain": [
              "<Figure size 432x288 with 1 Axes>"
            ]
          },
          "metadata": {
            "needs_background": "light"
          }
        }
      ]
    },
    {
      "cell_type": "markdown",
      "source": [
        "## [Upper Confidence Bound][UCB] (UCB)\n",
        "* UCB estima o limite superior do valor de cada ação e reduz de maneira inteligente a exploração conforme passa o tempo\n",
        "* Seleciona ações com o maior limite superior (estimado)\n",
        "* UCB:\n",
        "\n",
        "  $\\\\\n",
        "\\begin{align}\n",
        "A_t≐argmax_a\\left[Q_t(a)+c\\sqrt{\\frac{\\ln t}{N_t(a)}}\\right]\n",
        "\\end{align}\n",
        "$\n",
        "* onde, $c>0$ controla a exploração\n",
        "\n",
        "[UCB]: https://towardsdatascience.com/multi-armed-bandits-upper-confidence-bound-algorithms-with-python-code-a977728f0e2d"
      ],
      "metadata": {
        "id": "lbTEFnoGWqLl"
      }
    },
    {
      "cell_type": "code",
      "source": [
        "from numpy import log, sqrt\n",
        "c = 2\n",
        "\n",
        "Q = [0 for _ in range(k)]\n",
        "N = [1 for _ in range(k)]\n",
        "\n",
        "G = 0\n",
        "ucb_avg_rw = []\n",
        "\n",
        "i=0\n",
        "while i < 2000:\n",
        "  A = (\n",
        "      max(range(len(Q)), key=lambda a: Q[a] + c*sqrt((log(sum(N)))/N[a]))\n",
        "  )\n",
        "  R = bandits.play(A)\n",
        "  G += R\n",
        "  N[A] = N[A] + 1\n",
        "  Q[A] = Q[A] + (1/N[A])*(R - Q[A])\n",
        "  ucb_avg_rw.append(G/sum(N))\n",
        "  i += 1"
      ],
      "metadata": {
        "id": "5HfL7o9lXwGj"
      },
      "execution_count": 11,
      "outputs": []
    },
    {
      "cell_type": "code",
      "source": [
        "pyplot.plot(avg_rw, label='\\u03b5-greedy \\u03b5 = %.1f' % ep)\n",
        "pyplot.plot(ucb_avg_rw, label=\"UCB c=%i\" % c)\n",
        "pyplot.legend()\n",
        "\n",
        "f = pyplot.plot()"
      ],
      "metadata": {
        "id": "HchvPlsEZQ-k",
        "colab": {
          "base_uri": "https://localhost:8080/",
          "height": 265
        },
        "outputId": "48b86c78-0d27-49ad-8ffa-83761138a955"
      },
      "execution_count": 12,
      "outputs": [
        {
          "output_type": "display_data",
          "data": {
            "image/png": "[encoded data removed]",
            "text/plain": [
              "<Figure size 432x288 with 1 Axes>"
            ]
          },
          "metadata": {
            "needs_background": "light"
          }
        }
      ]
    },
    {
      "cell_type": "markdown",
      "source": [
        "## Gradient Bandit\n",
        "\n",
        "* Gradiant Bandit usa uma função $H_t$ aprendida para cada ação\n",
        "* Quanto maior a preferência por uma ação, mais frequentemente ela será escolhida\n",
        "* As probabilidades das ações são determiandas de acordo com a distribuição softmax:\n",
        "\n",
        "\\begin{equation}\n",
        "P[A_t=a]=\\frac{e^{(H_t(a))}}{\\sum^{k}_{b=1}e^{(H_t(b))}}=\\pi_t(a)\n",
        "\\end{equation}\n",
        "\n",
        "* As preferências de todas as ações são inicializadas para o mesmo valor\n",
        "* ex: $H_1(a)=0$\n",
        "* A cada etapa, uma ação $A_t$ é selecionada e resulta em uma recompensa $R_t$<br>Então todas as preferências são atualizadas da seguinte forma:\n",
        "\\begin{equation}\n",
        "H_{t+1}(A_t)\\doteq H_t(A_t) + \\alpha(R_t -\\bar{R}_t)(1-\\pi_t(A_t)), \\text{ and }\n",
        "\\\\ H_{t+a}(a)\\doteq H_t(a) - \\alpha(R_t-\\bar{R}_t)\\pi_t(a), \\text{ for all } a\\neq A_t\n",
        "\\end{equation}\n",
        "onde, $\\bar{R}_t$ é a média de todas as recompensas recebidas e serve como baseline para julgar se a ação foi positiva ou não"
      ],
      "metadata": {
        "id": "qbxjgur7aSbd"
      }
    },
    {
      "cell_type": "code",
      "source": [
        "from numpy import exp\n",
        "\n",
        "def softmax(pi, H):\n",
        "  '''\n",
        "  Função auxiliar para atualizar as políticas altomaticamente\n",
        "  '''\n",
        "  for a in range(len(pi)):\n",
        "    pi[a] = exp(H[a])/sum([exp(H[b]) for b in range(len(H))])\n",
        "  return pi"
      ],
      "metadata": {
        "id": "ssRyIy_uEVwT"
      },
      "execution_count": 13,
      "outputs": []
    },
    {
      "cell_type": "code",
      "source": [
        "from numpy.random import choice\n",
        "\n",
        "optimal_action = bandits.optimal\n",
        "\n",
        "alpha = 0.1\n",
        "\n",
        "H = [0 for _ in range(k)]\n",
        "N = [0 for _ in range(k)]\n",
        "# policy\n",
        "pi = [0 for _ in range(k)]\n",
        "# mean reward\n",
        "R = 0\n",
        "\n",
        "optimal_choice = []\n",
        "\n",
        "i=0\n",
        "while i < 1000:\n",
        "  pi = softmax(pi, H)\n",
        "  A = choice(range(k), p=pi)\n",
        "  Rt = bandits.play(A)\n",
        "  R = (sum(N)*R + Rt)/(sum(N)+1)\n",
        "  N[A] = N[A] + 1\n",
        "  H[A] = H[A] + alpha*(Rt - R)*(1 - pi[A])\n",
        "  for a in range(len(H)):\n",
        "    if (a != A):\n",
        "      H[a] = H[a] - alpha*(Rt - R)*pi[a]\n",
        "  optimal_choice.append(int(optimal_action == A))\n",
        "  i += 1"
      ],
      "metadata": {
        "id": "2-N8b96oaTqB"
      },
      "execution_count": 14,
      "outputs": []
    },
    {
      "cell_type": "code",
      "source": [
        "from numpy import cumsum, asarray\n",
        "\n",
        "opt_choice = cumsum(optimal_choice) / (asarray(range(len(optimal_choice))) + 1)\n",
        "\n",
        "pyplot.plot(opt_choice, label=\"Gradient bandit\")\n",
        "pyplot.ylabel(\"% optimal action\")\n",
        "pyplot.legend()\n",
        "f = pyplot.plot()"
      ],
      "metadata": {
        "colab": {
          "base_uri": "https://localhost:8080/",
          "height": 265
        },
        "id": "90Nz40wvMKYR",
        "outputId": "4ad2ec8a-a28d-44ac-9847-a0c8bebf32fb"
      },
      "execution_count": 15,
      "outputs": [
        {
          "output_type": "display_data",
          "data": {
            "image/png": "[encoded data removed]",
            "text/plain": [
              "<Figure size 432x288 with 1 Axes>"
            ]
          },
          "metadata": {
            "needs_background": "light"
          }
        }
      ]
    },
    {
      "cell_type": "markdown",
      "source": [
        "## Associative Search (Contextual Bandit)"
      ],
      "metadata": {
        "id": "7QSqEUROL9-o"
      }
    }
  ]
}